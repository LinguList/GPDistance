{
 "cells": [
  {
   "cell_type": "markdown",
   "metadata": {},
   "source": [
    "This is about calculating the probability of improvement in a GA."
   ]
  },
  {
   "cell_type": "code",
   "execution_count": null,
   "metadata": {
    "collapsed": true
   },
   "outputs": [],
   "source": [
    "import scipy.stats\n",
    "binom = scipy.stats.binom\n",
    "%pylab inline"
   ]
  },
  {
   "cell_type": "code",
   "execution_count": 2,
   "metadata": {
    "collapsed": false
   },
   "outputs": [],
   "source": [
    "def p_binom_g_binom(n, m, p, size):\n",
    "    x = binom.rvs(n, p, size=size)\n",
    "    y = binom.rvs(m, p, size=size)\n",
    "    return sum(x > y) / float(size)"
   ]
  },
  {
   "cell_type": "code",
   "execution_count": 29,
   "metadata": {
    "collapsed": false
   },
   "outputs": [
    {
     "data": {
      "image/png": "[encoded data removed]",
      "text/plain": [
       "<matplotlib.figure.Figure at 0x106176710>"
      ]
     },
     "metadata": {},
     "output_type": "display_data"
    }
   ],
   "source": [
    "L = 10\n",
    "n = 3\n",
    "m = L - n\n",
    "p = 0.5\n",
    "bn = binom(n, p)\n",
    "x = np.arange(-1, L+1)\n",
    "h = plt.vlines(x, 0, bn.pmf(x), lw=4)"
   ]
  },
  {
   "cell_type": "code",
   "execution_count": 32,
   "metadata": {
    "collapsed": false
   },
   "outputs": [
    {
     "data": {
      "image/png": "[encoded data removed]",
      "text/plain": [
       "<matplotlib.figure.Figure at 0x106111e10>"
      ]
     },
     "metadata": {},
     "output_type": "display_data"
    }
   ],
   "source": [
    "bm = binom(m, p)\n",
    "y = np.arange(-1, L+1)\n",
    "h = plt.vlines(x, 0, bm.pmf(y), lw=4)"
   ]
  },
  {
   "cell_type": "code",
   "execution_count": 19,
   "metadata": {
    "collapsed": false
   },
   "outputs": [
    {
     "data": {
      "text/plain": [
       "array([ 0.125,  0.375,  0.375])"
      ]
     },
     "execution_count": 19,
     "metadata": {},
     "output_type": "execute_result"
    }
   ],
   "source": [
    "bn.pmf(x)"
   ]
  },
  {
   "cell_type": "code",
   "execution_count": 23,
   "metadata": {
    "collapsed": false
   },
   "outputs": [
    {
     "data": {
      "text/plain": [
       "2"
      ]
     },
     "execution_count": 23,
     "metadata": {},
     "output_type": "execute_result"
    }
   ],
   "source": [
    "np.minimum(bn.dist.b, 2)"
   ]
  },
  {
   "cell_type": "code",
   "execution_count": 33,
   "metadata": {
    "collapsed": false
   },
   "outputs": [
    {
     "ename": "SyntaxError",
     "evalue": "invalid syntax (<ipython-input-33-eb06bc599a8c>, line 26)",
     "output_type": "error",
     "traceback": [
      "\u001b[0;36m  File \u001b[0;32m\"<ipython-input-33-eb06bc599a8c>\"\u001b[0;36m, line \u001b[0;32m26\u001b[0m\n\u001b[0;31m    ft_new[j] = sum(ft[k]\u001b[0m\n\u001b[0m                          ^\u001b[0m\n\u001b[0;31mSyntaxError\u001b[0m\u001b[0;31m:\u001b[0m invalid syntax\n"
     ]
    }
   ],
   "source": [
    "def p_binom_g_binom(n, m, p, size):\n",
    "    x = binom.rvs(n, p, size=size)\n",
    "    y = binom.rvs(m, p, size=size)\n",
    "    return sum(x > y) / float(size)\n",
    "\n",
    "def binom_pmf(k, n, p):\n",
    "    return binom(n, p).pmf(k)\n",
    "\n",
    "def double_binom_pmf(k, l, n, m, p):\n",
    "    return binom_pmf(k, n, p) * binom_pmf(l, m, p)\n",
    "\n",
    "def prob_improvement_i(i, n, m, p):\n",
    "    return sum(double_binom_pmf(i+j, j, n, m, p) for j in range(0, n-i+1))\n",
    "\n",
    "def prob_improvement(n, m, p):\n",
    "    return sum(prob_improvement_i(i, n, m, p) for i in range(1, n+1))\n",
    "\n",
    "def prob_no_improvement(n, m, p):\n",
    "    return 1 - prob_improvement(n, m, p)\n",
    "\n",
    "def fitness(L, p, t):\n",
    "    ft = binom(L, 0.5).pmf(range(L+1))\n",
    "    for i in range(t):\n",
    "        ft_new = ft[:]\n",
    "        for j in range(L+1):\n",
    "            ft_new[j] = sum(ft[k] \n"
   ]
  },
  {
   "cell_type": "code",
   "execution_count": 34,
   "metadata": {
    "collapsed": false
   },
   "outputs": [],
   "source": [
    "x = 3"
   ]
  },
  {
   "cell_type": "code",
   "execution_count": null,
   "metadata": {
    "collapsed": false
   },
   "outputs": [],
   "source": []
  }
 ],
 "metadata": {
  "kernelspec": {
   "display_name": "Python 2",
   "language": "python",
   "name": "python2"
  },
  "language_info": {
   "codemirror_mode": {
    "name": "ipython",
    "version": 2
   },
   "file_extension": ".py",
   "mimetype": "text/x-python",
   "name": "python",
   "nbconvert_exporter": "python",
   "pygments_lexer": "ipython2",
   "version": "2.7.9"
  }
 },
 "nbformat": 4,
 "nbformat_minor": 0
}
