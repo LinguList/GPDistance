{
 "metadata": {
  "name": ""
 },
 "nbformat": 3,
 "nbformat_minor": 0,
 "worksheets": [
  {
   "cells": [
    {
     "cell_type": "code",
     "collapsed": false,
     "input": [
      "import scipy.stats\n",
      "binom = scipy.stats.binom"
     ],
     "language": "python",
     "metadata": {},
     "outputs": [],
     "prompt_number": 1
    },
    {
     "cell_type": "code",
     "collapsed": false,
     "input": [
      "def p_binom_g_binom(n, m, p, size):\n",
      "    x = binom.rvs(n, p, size=size)\n",
      "    y = binom.rvs(m, p, size=size)\n",
      "    return sum(x > y) / float(size)"
     ],
     "language": "python",
     "metadata": {},
     "outputs": [],
     "prompt_number": 2
    },
    {
     "cell_type": "code",
     "collapsed": false,
     "input": [
      "%pylab inline"
     ],
     "language": "python",
     "metadata": {},
     "outputs": [
      {
       "output_type": "stream",
       "stream": "stdout",
       "text": [
        "Populating the interactive namespace from numpy and matplotlib\n"
       ]
      }
     ],
     "prompt_number": 4
    },
    {
     "cell_type": "code",
     "collapsed": false,
     "input": [
      "L = 10\n",
      "n = 3\n",
      "m = L - n\n",
      "p = 0.5\n",
      "bn = binom(n, p)\n",
      "x = np.arange(-1, L+1)\n",
      "h = plt.vlines(x, 0, bn.pmf(x), lw=4)"
     ],
     "language": "python",
     "metadata": {},
     "outputs": [
      {
       "metadata": {},
       "output_type": "display_data",
       "png": "[encoded data removed]",
       "text": [
        "<matplotlib.figure.Figure at 0x106176710>"
       ]
      }
     ],
     "prompt_number": 29
    },
    {
     "cell_type": "code",
     "collapsed": false,
     "input": [
      "bm = binom(m, p)\n",
      "y = np.arange(-1, L+1)\n",
      "h = plt.vlines(x, 0, bm.pmf(y), lw=4)"
     ],
     "language": "python",
     "metadata": {},
     "outputs": [
      {
       "metadata": {},
       "output_type": "display_data",
       "png": "[encoded data removed]",
       "text": [
        "<matplotlib.figure.Figure at 0x106111e10>"
       ]
      }
     ],
     "prompt_number": 32
    },
    {
     "cell_type": "code",
     "collapsed": false,
     "input": [
      "bn.pmf(x)"
     ],
     "language": "python",
     "metadata": {},
     "outputs": [
      {
       "metadata": {},
       "output_type": "pyout",
       "prompt_number": 19,
       "text": [
        "array([ 0.125,  0.375,  0.375])"
       ]
      }
     ],
     "prompt_number": 19
    },
    {
     "cell_type": "code",
     "collapsed": false,
     "input": [
      "np.minimum(bn.dist.b, 2)"
     ],
     "language": "python",
     "metadata": {},
     "outputs": [
      {
       "metadata": {},
       "output_type": "pyout",
       "prompt_number": 23,
       "text": [
        "2"
       ]
      }
     ],
     "prompt_number": 23
    },
    {
     "cell_type": "code",
     "collapsed": false,
     "input": [
      "def p_binom_g_binom(n, m, p, size):\n",
      "    x = binom.rvs(n, p, size=size)\n",
      "    y = binom.rvs(m, p, size=size)\n",
      "    return sum(x > y) / float(size)\n",
      "\n",
      "def binom_pmf(k, n, p):\n",
      "    return binom(n, p).pmf(k)\n",
      "\n",
      "def double_binom_pmf(k, l, n, m, p):\n",
      "    return binom_pmf(k, n, p) * binom_pmf(l, m, p)\n",
      "\n",
      "def prob_improvement_i(i, n, m, p):\n",
      "    return sum(double_binom_pmf(i+j, j, n, m, p) for j in range(0, n-i+1))\n",
      "\n",
      "def prob_improvement(n, m, p):\n",
      "    return sum(prob_improvement_i(i, n, m, p) for i in range(1, n+1))\n",
      "\n",
      "def prob_no_improvement(n, m, p):\n",
      "    return 1 - prob_improvement(n, m, p)\n",
      "\n",
      "def fitness(L, p, t):\n",
      "    ft = binom(L, 0.5).pmf(range(L+1))\n",
      "    for i in range(t):\n",
      "        ft_new = ft[:]\n",
      "        for j in range(L+1):\n",
      "            ft_new[j] = sum(ft[k] \n"
     ],
     "language": "python",
     "metadata": {},
     "outputs": [
      {
       "ename": "SyntaxError",
       "evalue": "invalid syntax (<ipython-input-33-eb06bc599a8c>, line 26)",
       "output_type": "pyerr",
       "traceback": [
        "\u001b[0;36m  File \u001b[0;32m\"<ipython-input-33-eb06bc599a8c>\"\u001b[0;36m, line \u001b[0;32m26\u001b[0m\n\u001b[0;31m    ft_new[j] = sum(ft[k]\u001b[0m\n\u001b[0m                          ^\u001b[0m\n\u001b[0;31mSyntaxError\u001b[0m\u001b[0;31m:\u001b[0m invalid syntax\n"
       ]
      }
     ],
     "prompt_number": 33
    },
    {
     "cell_type": "code",
     "collapsed": false,
     "input": [
      "x = 3"
     ],
     "language": "python",
     "metadata": {},
     "outputs": [],
     "prompt_number": 34
    },
    {
     "cell_type": "code",
     "collapsed": false,
     "input": [],
     "language": "python",
     "metadata": {},
     "outputs": []
    }
   ],
   "metadata": {}
  }
 ]
}