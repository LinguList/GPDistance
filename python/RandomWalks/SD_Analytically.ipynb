{
 "cells": [
  {
   "cell_type": "markdown",
   "metadata": {},
   "source": [
    "# Measuring exploitation-exploration behaviour of neighbourhood operators\n",
    "\n",
    "The transition matrix $p_{i,j}$ gives the probability of a transition from point $i$ to point $j$ in a single application of the neighbourhood operator. We can define several interesting quantities in terms of this matrix.\n",
    "\n",
    "For any point $i$, other points $j$ are *near to* $i$ to the extent that $p_{i,j}$ is large. We can define $d(i, j) = -log(p_{i,j})$ as a distance (not a true metric) between points. This distance does not take syntactic, semantic, or any other type of *similarity* between $i$ and $j$ into account: it expresses only their *proximity* as measured by one-step transition probabilities.\n",
    "\n",
    "We can define a binary relation, *neighbourhood*: point $j$ is a neighbour of point $i$ if $p_{i,j} \\neq 0$.\n",
    "\n",
    "We wish to quantify the idea that some operators are more exploitative, others more explorative. We will give a definition for *exploitativeness*: high values will indicate an exploitative operator, while low values will indicate an explorative operator. The main idea is *peakedness within each row of the transition matrix*. If the row $p_{i,\\cdot}$ corresponding to transitions outward from point $i$ is strongly peaked, that indicates that if we are currently at point $i$, then the next point in the search is highly likely to come from just one of a few points $j$ with high $p_{i,j}$. These are the neighbours of $i$ (or the nearest neighbours of $i$, in terms of $d$). In contrast, if the row is not strongly peaked, that indicates that the next point in the search could come from almost anywhere in the space. In an extreme case, a row might be entirely flat, in which case there is no bias towards any point, and the search reduces to random search.\n",
    "\n",
    "We quantify peakedness in a single row using the coefficient of variation (CV), defined as $CV(x) = SD(x)/M(x)$ where $SD$ is the standard deviation and $M$ the mean of a vector $x$. The SD alone represents peakedness, but CV does so in a scale-independent way.\n",
    "\n",
    "We can then quantify the exploitativeness of an operator as the mean of the CV across rows, $\\frac{\\sum_{i=0}^{N-1} CV(p_{i,\\cdot})}{N}$. As already stated, high values indicate an exploitative operator, while low values indicate an explorative operator.\n",
    "\n",
    "\n",
    "\n",
    "# Calculation and properties of *exploitativeness*\n",
    "\n",
    "In the following, we use $N$ to indicate the size of the space.  \n",
    "\n",
    "The mean transition probability is $1/N$, where $N$ is the size of the space, since transition probabilities in a single row must sum to 1.\n",
    "\n",
    "## A common special case\n",
    "\n",
    "For some operators, every point $i$ has the same number of neighbours $m$, and all have an equal transition probability $1/m$. In this common special case, the value of exploitativeness can be calculated as follows. Recall that SD is defined as $$\\sqrt{\\frac{\\sum (x_i - \\mu(x))^2}{N}}$$ where $x_i$ are the items for $i=1\\ldots N$ and $\\mu$ indicates the mean. The numerator is a sum of squared differences. In our case there are $m$ neighbours, each of transition probability $p=1/m$. There are $N-m$ non-neighbours, each of transition probability 0. The mean transition probability is $1/N$. The sum of squared differences is thus $$ssq = m(1/m - 1/N)^2 + (N-m)(0 - 1/N)^2$$ Then the variance $v = ssq/N$, and $SD =\\sqrt{v}$, and finally $CV =N \\cdot SD$. Since all rows will give equal CV, this is the value for exploitativeness of such an operator: $$N \\sqrt{\\frac{m \\left(\\frac{1}{m} - \\frac{1}{N}\\right)^{2} + \\frac{1}{N^{2}} \\left(N - m\\right)}{N}}$$\n",
    "\n",
    "This simplifies to: $$\\sqrt{\\frac{1}{m} \\left(N - m\\right)}$$\n",
    "\n",
    "### Example: bitstrings of length $n$\n",
    "\n",
    "In the space of bitstrings of length $n$, the size of the space $N=2^n$. Using a per-individual mutation operator (ie we carry out one bit-flip per mutation event),\n",
    "we have $m=n$. Exploitativeness is equal to $$\\sqrt{\\frac{1}{n} \\left(2^{n} - n\\right)}$$\n",
    "\n",
    "\n",
    "\n",
    "FIXME check operator precedence above!"
   ]
  },
  {
   "cell_type": "code",
   "execution_count": 15,
   "metadata": {
    "collapsed": false
   },
   "outputs": [],
   "source": [
    "from sympy import symbols, Symbol, simplify, latex\n",
    "from sympy import binomial, sqrt, cbrt, factorial, Sum, log\n",
    "import math\n",
    "import os.path\n",
    "import matplotlib.pyplot as plt\n",
    "import scipy.misc\n",
    "%matplotlib inline\n",
    "from sympy.interactive import printing\n",
    "printing.init_printing(use_latex=True)\n",
    "nCk = lambda n, k: scipy.misc.comb(n, k, True)"
   ]
  },
  {
   "cell_type": "code",
   "execution_count": 2,
   "metadata": {
    "collapsed": true
   },
   "outputs": [],
   "source": [
    "n = Symbol('n', integer=True, positive=True) # a parameter specifying size of representation\n",
    "N = Symbol('N', integer=True, positive=True) # size of space\n",
    "m = Symbol('m', integer=True) # number of neighbours (special cases)\n",
    "h = Symbol(\"h\", integer=True) # Hamming distance\n",
    "p = Symbol(\"p\", integer=False) # per-gene mutation probability\n",
    "\n",
    "N_b = 2**n\n",
    "N_p = factorial(n-1)\n",
    "# N_t = ? # trees"
   ]
  },
  {
   "cell_type": "code",
   "execution_count": 7,
   "metadata": {
    "collapsed": false
   },
   "outputs": [
    {
     "name": "stdout",
     "output_type": "stream",
     "text": [
      "SD with m equal neighbours\n",
      "sqrt(m*(1/m - 1/N)**2 + (N - m)/N**2)/sqrt(N)\n",
      "\\frac{1}{\\sqrt{N}} \\sqrt{m \\left(\\frac{1}{m} - \\frac{1}{N}\\right)^{2} + \\frac{1}{N^{2}} \\left(N - m\\right)}\n",
      "SD for bitstrings with per-individual bit-flip\n",
      "2**(-n)*sqrt(2**n - n)/sqrt(n)\n",
      "\\frac{\\sqrt{2^{n} - n}}{2^{n} \\sqrt{n}}\n",
      "SD for permutations with swap-adjacent\n",
      "sqrt(-n + factorial(n - 1))/(sqrt(n)*factorial(n - 1))\n",
      "\\frac{\\sqrt{- n + \\left(n - 1\\right)!}}{\\sqrt{n} \\left(n - 1\\right)!}\n"
     ]
    }
   ],
   "source": [
    "ssqd = m * (1/m - 1/N)**2 + (N-m) * (0 - 1/N)**2\n",
    "\n",
    "SD_with_m_equal_neighbours = sqrt(ssqd / N)\n",
    "SD_with_m_equal_neighbours_simp = simplify(SD_with_m_equal_neighbours)\n",
    "\n",
    "print(\"SD with m equal neighbours\")\n",
    "print(SD_with_m_equal_neighbours)\n",
    "print(latex(SD_with_m_equal_neighbours))\n",
    "\n",
    "SD_bitstring_per_ind = SD_with_m_equal_neighbours_simp.subs([(N, 2**n), (m, n)])\n",
    "print(\"SD for bitstrings with per-individual bit-flip\")\n",
    "print(SD_bitstring_per_ind)\n",
    "print(latex(SD_bitstring_per_ind))\n",
    "    \n",
    "SD_permutation_swap_adj = SD_with_m_equal_neighbours_simp.subs([(N, factorial(n-1)), (m, n)])\n",
    "print(\"SD for permutations with swap-adjacent\")\n",
    "print(SD_permutation_swap_adj)\n",
    "print(latex(SD_permutation_swap_adj))\n"
   ]
  },
  {
   "cell_type": "markdown",
   "metadata": {},
   "source": [
    "CV with m equal neighbours\n",
    "```N*sqrt((m*(1/m - 1/N)**2 + (N - m)/N**2)/N)```\n",
    "$$N \\sqrt{\\frac{1}{N} \\left(m \\left(\\frac{1}{m} - \\frac{1}{N}\\right)^{2} + \\frac{1}{N^{2}} \\left(N - m\\right)\\right)}$$\n",
    "\n",
    "CV with m equal neighbours, simplified\n",
    "$$\\frac{N}{\\left\\lvert{N}\\right\\rvert} \\sqrt{\\frac{1}{m} \\left(N - m\\right)}$$\n",
    "\n",
    "CV for bitstrings with per-individual bit-flip\n",
    "```sqrt((2**n - n)/n))```\n",
    "\n",
    "$$\\sqrt{\\frac{1}{n} \\left(2^{n} - n\\right)}$$\n",
    "\n",
    "CV for permutations with swap-adjacent\n",
    "```sqrt((-n + factorial(n - 1))/n)*factorial(n - 1)/Abs(factorial(n - 1)))```\n",
    "\n",
    "$$\\frac{\\left(n - 1\\right)!}{\\left\\lvert{\\left(n - 1\\right)!}\\right\\rvert} \\sqrt{\\frac{1}{n} \\left(- n + \\left(n - 1\\right)!\\right)}$$\n"
   ]
  },
  {
   "cell_type": "code",
   "execution_count": 8,
   "metadata": {
    "collapsed": false
   },
   "outputs": [],
   "source": [
    "def plot_expl(x, vals, ylabel, filename):\n",
    "    fig, ax = plt.subplots(figsize=(4, 2.5))\n",
    "    ax.plot(x, vals)\n",
    "    plt.xlabel(\"$n$\")\n",
    "    plt.ylabel(ylabel)\n",
    "    plt.subplots_adjust(left=0.2, bottom=0.2)\n",
    "    plt.savefig(os.path.join(basedir, filename))\n",
    "    del ax\n",
    "    del fig\n",
    "    "
   ]
  },
  {
   "cell_type": "code",
   "execution_count": 21,
   "metadata": {
    "collapsed": false
   },
   "outputs": [
    {
     "data": {
      "image/png": "[encoded data removed]",
      "text/plain": [
       "<matplotlib.figure.Figure at 0x10d52d190>"
      ]
     },
     "metadata": {},
     "output_type": "display_data"
    },
    {
     "data": {
      "image/png": "[encoded data removed]",
      "text/plain": [
       "<matplotlib.figure.Figure at 0x10d64d910>"
      ]
     },
     "metadata": {},
     "output_type": "display_data"
    },
    {
     "data": {
      "image/png": "[encoded data removed]",
      "text/plain": [
       "<matplotlib.figure.Figure at 0x10d71b110>"
      ]
     },
     "metadata": {},
     "output_type": "display_data"
    },
    {
     "data": {
      "image/png": "[encoded data removed]",
      "text/plain": [
       "<matplotlib.figure.Figure at 0x10ce1b8d0>"
      ]
     },
     "metadata": {},
     "output_type": "display_data"
    },
    {
     "data": {
      "image/png": "[encoded data removed]",
      "text/plain": [
       "<matplotlib.figure.Figure at 0x10d142d50>"
      ]
     },
     "metadata": {},
     "output_type": "display_data"
    }
   ],
   "source": [
    "x = range(2, 21)\n",
    "basedir = \"/Users/jmmcd/Dropbox/GPDistance/results/space_bitstring/\"\n",
    "plot_expl(x, [SD_bitstring_per_ind.subs(n, i).evalf() for i in x], \"SD\", \"per_ind_sd.pdf\")\n",
    "plot_expl(x, [(log(N) * SD_bitstring_per_ind).subs(N, 2**n).subs(n, i).evalf() for i in x], \"$\\log(N)\\mathrm{SD}$\", \"per_ind_log_sd.pdf\")\n",
    "plot_expl(x, [(sqrt(N) * SD_bitstring_per_ind).subs(N, 2**n).subs(n, i).evalf() for i in x], \"$\\sqrt{N}\\mathrm{SD}$\", \"per_ind_sqrt_sd.pdf\")\n",
    "plot_expl(x, [(cbrt(N) * SD_bitstring_per_ind).subs(N, 2**n).subs(n, i).evalf() for i in x], \"$\\sqrt[3]{N}\\mathrm{SD}$\", \"per_ind_cbrt_sd.pdf\")\n",
    "plot_expl(x, [(N * SD_bitstring_per_ind).subs(N, 2**n).subs(n, i).evalf() for i in x], \"CV\", \"per_ind_cv.pdf\")"
   ]
  },
  {
   "cell_type": "markdown",
   "metadata": {},
   "source": [
    "### Example: bitstrings of length $n$ with a per-gene mutation probability\n",
    "\n",
    "In this case, all points in the space are neighbours, with differing transition probabilties, so the previous special case cannot be used. With per-gene mutation probability $p$, the transition probability to an individual whose Hamming distance is $h$ is $$p^h (1 - p)^{n - h}$$\n",
    "\n",
    "How many individuals are there at Hamming distance $h$? For $h=0$, there are 1. For $h=1$, there are $n$. For $h=2$, there are $\\binom{n}{2}$. In general, there are $\\binom{n}{h}$\n",
    "\n",
    "As in the per-individual mutation above, the mean value of $t$ is $1/2^n$. So the variance $$v = \\frac{\\sum_{h=0}^n \\left(\\binom{n}{h} (p^h (1-p)^{n-h}) - 1/2^n \\right)^2}{2^n}$$\n",
    "\n",
    "Again $SD = \\sqrt{v}$ and $CV = N\\cdot SD$."
   ]
  },
  {
   "cell_type": "code",
   "execution_count": 246,
   "metadata": {
    "collapsed": false
   },
   "outputs": [
    {
     "name": "stdout",
     "output_type": "stream",
     "text": [
      "(0.030923641528236703, 31.665808924914383)\n"
     ]
    }
   ],
   "source": [
    "def test():\n",
    "    n = 10\n",
    "    p = 0.001\n",
    "    N = 2**n\n",
    "    sigma_f = math.sqrt(\n",
    "        sum(\n",
    "            nCk(n, h) * # number of individuals at Hamming distance h\n",
    "            (p**h * (1.0-p)**(n-h) # transition probability for each individual\n",
    "             - \n",
    "             1.0/N # mean transition probability\n",
    "            )**2 # squared difference\n",
    "            for h in range(n+1) # [0, 1, ... n]\n",
    "            ) / N # variance\n",
    "        ) # stddev\n",
    "    coefvar_f = N * sigma_f\n",
    "    return sigma_f, coefvar_f\n",
    "print test()"
   ]
  },
  {
   "cell_type": "code",
   "execution_count": 247,
   "metadata": {
    "collapsed": false
   },
   "outputs": [
    {
     "name": "stdout",
     "output_type": "stream",
     "text": [
      "CV_bitstring_per_gene\n",
      "sqrt(N)*sqrt(Sum((p**h*(-p + 1)**(-h + n) - 2**(-n))**2*binomial(n, h), (h, 0, n)))\n",
      "\\sqrt{N} \\sqrt{\\sum_{h=0}^{n} \\left(p^{h} \\left(- p + 1\\right)^{- h + n} - 2^{- n}\\right)^{2} {\\binom{n}{h}}}\n",
      "CV_bitstring_per_gene with n=10 and p=0.001\n",
      "31.6658089249144\n"
     ]
    }
   ],
   "source": [
    "CV_bitstring_per_gene = N * sqrt(Sum(binomial(n, h) * ((p**h * (1-p)**(n-h)) - 1/2**n)**2,\n",
    "                                     (h, 0, n))/N)\n",
    "print(\"CV_bitstring_per_gene\")\n",
    "print(CV_bitstring_per_gene)\n",
    "print(latex(CV_bitstring_per_gene))\n",
    "print(\"CV_bitstring_per_gene with n=10 and p=0.001\")\n",
    "print(CV_bitstring_per_gene.subs([(N, 2**n), (n, 10), (p, 0.001)]).evalf())"
   ]
  },
  {
   "cell_type": "markdown",
   "metadata": {},
   "source": [
    "$$N \\sqrt{\\frac{\\sum_{h=0}^{n} {\\binom{n}{h}} \\left(p^{h} \\left(1-p \\right)^{n - h} - \\frac{1}{2^n}\\right)^{2}}{N}}$$"
   ]
  },
  {
   "cell_type": "code",
   "execution_count": 274,
   "metadata": {
    "collapsed": false
   },
   "outputs": [
    {
     "data": {
      "image/png": "[encoded data removed]",
      "text/plain": [
       "<matplotlib.figure.Figure at 0x10d923410>"
      ]
     },
     "metadata": {},
     "output_type": "display_data"
    },
    {
     "data": {
      "image/png": "[encoded data removed]",
      "text/plain": [
       "<matplotlib.figure.Figure at 0x10f654ed0>"
      ]
     },
     "metadata": {},
     "output_type": "display_data"
    }
   ],
   "source": [
    "x = range(2, 21)\n",
    "basedir = \"/Users/jmmcd/Dropbox/GPDistance/results/space_bitstring/\"\n",
    "plot_cv(x, [CV_bitstring_per_gene.subs([(N, 2**n), (p, 0.01), (n, i)]).evalf() for i in x], \"per_gene_0.010_cv.pdf\")\n",
    "plot_cv(x, [CV_bitstring_per_gene.subs([(N, 2**n), (p, 0.10), (n, i)]).evalf() for i in x], \"per_gene_0.100_cv.pdf\")"
   ]
  },
  {
   "cell_type": "markdown",
   "metadata": {},
   "source": [
    "### Example: permutations of length $n$\n",
    "\n",
    "In a space of permutations of length $n$, $N=n!/n = (n-1)!$.\n",
    "\n",
    "With the swap-adjacent operator, there are $m=n$ neighbours of equal transition probability $p=1/m$, so we again use the expression for $m$ neighbours of probability $1/m$. The expression for CV comes out to be\n",
    "$$\\frac{1}{\\sqrt{n}} \\sqrt{- n + \\left(n - 1\\right)!}$$\n",
    "\n",
    "Swap-adjacent has $m=n$, all equal.\n",
    "\n",
    "Swap-two has $m=n(n-1)/2$, all equal.\n",
    "\n",
    "Two-opt has $m=n(n-3)/2$, all equal.\n",
    "\n",
    "Three-opt has $m=4 n (n-4) (n-5) / 6$, all equal.\n",
    "\n",
    "Three-opt-broad has $4n(n-4)(n-5)/6 < m < 7n(n-4)(n-5)/6$ -- not all equal -- three different possible values, which I don't yet understand.\n",
    "\n",
    "Twoh-opt has $m = n(n-2)-n = n(n-3)$. We have $n(n-4)$ neighbours where $p=\\frac{1}{n(n-2)}$, and $n$ neighbours where $p=\\frac{2}{n(n-2)}$. This happens because we \"expect\" $m=n(n-2)$ by inspection of the method, each with $p=n$, but $n$ of the neighbours occur twice (getting twice the probability), reducing the number of neighbours to $n(n-2)-n$."
   ]
  },
  {
   "cell_type": "code",
   "execution_count": 269,
   "metadata": {
    "collapsed": false
   },
   "outputs": [
    {
     "name": "stdout",
     "output_type": "stream",
     "text": [
      "CV for permutations with swap-adjacent operator\n",
      "sqrt(-n + factorial(n - 1))/sqrt(n)\n",
      "\\frac{1}{\\sqrt{n}} \\sqrt{- n + \\left(n - 1\\right)!}\n",
      "CV_permutation_swap_adj with n=10\n",
      "190.491469625283\n"
     ]
    }
   ],
   "source": [
    "CV_permutation_swap_adj = CV_with_m_equal_neighbours_simp.subs([(N, factorial(n-1)), (m, n)])\n",
    "print(\"CV for permutations with swap-adjacent operator\")\n",
    "print(CV_permutation_swap_adj)\n",
    "print(latex(CV_permutation_swap_adj))\n",
    "print(\"CV_permutation_swap_adj with n=10\")\n",
    "print(CV_permutation_swap_adj.subs(n, 10).evalf())"
   ]
  },
  {
   "cell_type": "code",
   "execution_count": 22,
   "metadata": {
    "collapsed": false
   },
   "outputs": [
    {
     "name": "stdout",
     "output_type": "stream",
     "text": [
      "CV for permutations with twoh-opt operator\n",
      "sqrt(n*(n - 4)*(-1/factorial(n - 1) + 1/(n*(n - 2)))**2 + n*(-1/factorial(n - 1) + 2/(n*(n - 2)))**2)*sqrt(factorial(n - 1))\n",
      "\\sqrt{n \\left(n - 4\\right) \\left(- \\frac{1}{\\left(n - 1\\right)!} + \\frac{1}{n \\left(n - 2\\right)}\\right)^{2} + n \\left(- \\frac{1}{\\left(n - 1\\right)!} + \\frac{2}{n \\left(n - 2\\right)}\\right)^{2}} \\sqrt{\\left(n - 1\\right)!}\n",
      "Simplified\n",
      "sqrt(n**6 - 7*n**5 + 16*n**4 - 2*n**3*factorial(n) - 12*n**3 + 8*n**2*factorial(n) - 8*n*factorial(n) + (factorial(n))**2)/(sqrt(n)*Abs(n - 2)*sqrt(factorial(n)))\n",
      "\\frac{1}{\\sqrt{n} \\left\\lvert{n - 2}\\right\\rvert \\sqrt{n!}} \\sqrt{n^{6} - 7 n^{5} + 16 n^{4} - 2 n^{3} n! - 12 n^{3} + 8 n^{2} n! - 8 n n! + n!^{2}}\n",
      "CV_permutation_twoh_opt with n=10\n",
      "75.2861221799957\n"
     ]
    }
   ],
   "source": [
    "mean_p = 1/N\n",
    "ssqd = n*(n-4)*(1/(n*(n-2)) - mean_p)**2 + n*(2/(n*(n-2)) - mean_p)**2\n",
    "SD_permutation_twoh_opt = sqrt(ssqd / N).subs(N, factorial(n-1))\n",
    "CV_permutation_twoh_opt = (N * SD_permutation_twoh_opt).subs(N, factorial(n-1))\n",
    "print(\"CV for permutations with twoh-opt operator\")\n",
    "print(CV_permutation_twoh_opt)\n",
    "print(latex(CV_permutation_twoh_opt))\n",
    "print(\"Simplified\")\n",
    "CV_permutation_twoh_opt_simp = simplify(CV_permutation_twoh_opt)\n",
    "print(CV_permutation_twoh_opt_simp)\n",
    "print(latex(CV_permutation_twoh_opt_simp))\n",
    "print(\"CV_permutation_twoh_opt with n=10\")\n",
    "print(CV_permutation_twoh_opt.subs(n, 10).evalf())"
   ]
  },
  {
   "cell_type": "markdown",
   "metadata": {},
   "source": [
    "### Permutation twoh-opt\n",
    "\n",
    "My version:\n",
    "\n",
    "$$(n-1)! \\sqrt{\\frac{n \\left(n - 4\\right) \\left(\\frac{1}{n \\left(n - 2\\right)} - \\frac{1}{\\left(n - 1\\right)!}\\right)^{2} + n \\left(\\frac{2}{n \\left(n - 2\\right)} - \\frac{1}{\\left(n - 1\\right)!}\\right)^{2}}{\\left(n - 1\\right)!}}$$\n",
    "\n",
    "Sympy gives:\n",
    "$$\\sqrt{n \\left(n - 4\\right) \\left(- \\frac{1}{\\left(n - 1\\right)!} + \\frac{1}{n \\left(n - 2\\right)}\\right)^{2} + n \\left(- \\frac{1}{\\left(n - 1\\right)!} + \\frac{2}{n \\left(n - 2\\right)}\\right)^{2}} \\sqrt{\\left(n - 1\\right)!}$$\n",
    "\n",
    "Simplifies to:\n",
    "$$\\frac{1}{\\sqrt{n} \\left\\lvert{n - 2}\\right\\rvert \\sqrt{n!}} \\sqrt{n^{6} - 7 n^{5} + 16 n^{4} - 2 n^{3} n! - 12 n^{3} + 8 n^{2} n! - 8 n n! + n!^{2}}$$"
   ]
  },
  {
   "cell_type": "code",
   "execution_count": 24,
   "metadata": {
    "collapsed": false
   },
   "outputs": [
    {
     "name": "stdout",
     "output_type": "stream",
     "text": [
      "swap_adj\n",
      "swap_two\n",
      "two_opt\n",
      "three_opt\n",
      "twoh_opt\n"
     ]
    },
    {
     "data": {
      "image/png": "[encoded data removed]",
      "text/plain": [
       "<matplotlib.figure.Figure at 0x10d989410>"
      ]
     },
     "metadata": {},
     "output_type": "display_data"
    },
    {
     "data": {
      "image/png": "[encoded data removed]",
      "text/plain": [
       "<matplotlib.figure.Figure at 0x10a32c850>"
      ]
     },
     "metadata": {},
     "output_type": "display_data"
    },
    {
     "data": {
      "image/png": "[encoded data removed]",
      "text/plain": [
       "<matplotlib.figure.Figure at 0x10d59a4d0>"
      ]
     },
     "metadata": {},
     "output_type": "display_data"
    },
    {
     "data": {
      "image/png": "[encoded data removed]",
      "text/plain": [
       "<matplotlib.figure.Figure at 0x10d9ca110>"
      ]
     },
     "metadata": {},
     "output_type": "display_data"
    },
    {
     "data": {
      "image/png": "[encoded data removed]",
      "text/plain": [
       "<matplotlib.figure.Figure at 0x10cf06290>"
      ]
     },
     "metadata": {},
     "output_type": "display_data"
    }
   ],
   "source": [
    "basedir = \"/Users/jmmcd/Dropbox/GPDistance/results/space_permutation/\"\n",
    "ops_mvals = [\n",
    "    (\"swap_adj\", n),\n",
    "    (\"swap_two\", n*(n-1)/2),\n",
    "    (\"two_opt\", n*(n-3)/2),\n",
    "    (\"three_opt\", 4*n*(n-4)*(n-5)/6),\n",
    "    ]\n",
    "x = range(6, 21)\n",
    "for op, mval in ops_mvals:\n",
    "    print op\n",
    "    plot_expl(x, [SD_with_m_equal_neighbours_simp.subs(\n",
    "                [(N, factorial(n-1)), (m, mval), (n, i)]).evalf() for i in x], \n",
    "              \"SD\",\n",
    "            op+\"_sd.pdf\")\n",
    "print \"twoh_opt\"\n",
    "plot_expl(x, [SD_permutation_twoh_opt.subs(n, i).evalf() for i in x], \n",
    "          \"SD\", \"twoh_opt_sd.pdf\")"
   ]
  },
  {
   "cell_type": "code",
   "execution_count": 276,
   "metadata": {
    "collapsed": false
   },
   "outputs": [
    {
     "name": "stdout",
     "output_type": "stream",
     "text": [
      "120.0\n"
     ]
    }
   ],
   "source": [
    "def test2():\n",
    "    n = 9\n",
    "    print 4*n*(n-4)*(n-5)/6.0\n",
    "test2()"
   ]
  }
 ],
 "metadata": {
  "kernelspec": {
   "display_name": "Python 2",
   "language": "python",
   "name": "python2"
  },
  "language_info": {
   "codemirror_mode": {
    "name": "ipython",
    "version": 2
   },
   "file_extension": ".py",
   "mimetype": "text/x-python",
   "name": "python",
   "nbconvert_exporter": "python",
   "pygments_lexer": "ipython2",
   "version": "2.7.10"
  }
 },
 "nbformat": 4,
 "nbformat_minor": 0
}
