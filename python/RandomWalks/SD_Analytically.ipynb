{
 "cells": [
  {
   "cell_type": "markdown",
   "metadata": {},
   "source": [
    "This is about calculating the standard deviation and coefficient of variation analytically in a bitstring representation. We can also calculate by generating the transition probabilities and carrying the standard deviation calculation as usual."
   ]
  },
  {
   "cell_type": "code",
   "execution_count": 123,
   "metadata": {
    "collapsed": false
   },
   "outputs": [],
   "source": [
    "from sympy import Symbol, Rational, binomial, simplify, sqrt\n",
    "import math\n",
    "import os.path\n",
    "import matplotlib.pyplot as plt\n",
    "import scipy.misc\n",
    "%matplotlib inline"
   ]
  },
  {
   "cell_type": "markdown",
   "metadata": {},
   "source": [
    "In a bitstring space of length $n$, the size of the space is $2^n$. The sum of transition probabilities is $1$, so the mean transition probability is $1/2^n$.\n",
    "\n",
    "In a per-individual mutation (ie we carry out one bit-flip per mutation event), there are $n$ neighbours, each with transition probability $t=1/n$. There are $2^n-n$ non-neighbours, and for each $t=0$. Therefore the variance\n",
    "\n",
    "$$v = \\frac{n(1/n - 1/2^n)^2 + (2^n-n)(0 - 1/2^n)^2}{2^n}$$\n",
    "\n",
    "So $\\sigma = \\sqrt{v}$.\n",
    "\n",
    "This simplies (see Sympy simplification below).\n",
    "\n",
    "FIXME check operator precedence above!"
   ]
  },
  {
   "cell_type": "code",
   "execution_count": 100,
   "metadata": {
    "collapsed": false
   },
   "outputs": [],
   "source": [
    "n = Symbol('n', integer=True)\n",
    "sigma = sqrt(n * (1/n - 1/(2**n))**2 + (2**n-n) * (0 - 1/2**n)**2) / (2**n)"
   ]
  },
  {
   "cell_type": "code",
   "execution_count": 101,
   "metadata": {
    "collapsed": false
   },
   "outputs": [
    {
     "data": {
      "text/plain": [
       "2**(-n)*sqrt(n*(1/n - 2**(-n))**2 + 2**(-2*n)*(2**n - n))"
      ]
     },
     "execution_count": 101,
     "metadata": {},
     "output_type": "execute_result"
    }
   ],
   "source": [
    "sigma"
   ]
  },
  {
   "cell_type": "code",
   "execution_count": 110,
   "metadata": {
    "collapsed": false
   },
   "outputs": [],
   "source": [
    "sigma = simplify(sigma)"
   ]
  },
  {
   "cell_type": "code",
   "execution_count": 111,
   "metadata": {
    "collapsed": false
   },
   "outputs": [
    {
     "data": {
      "text/plain": [
       "2**(-3*n/2)*sqrt((2**n - n)/n)"
      ]
     },
     "execution_count": 111,
     "metadata": {},
     "output_type": "execute_result"
    }
   ],
   "source": [
    "sigma"
   ]
  },
  {
   "cell_type": "code",
   "execution_count": 109,
   "metadata": {
    "collapsed": false
   },
   "outputs": [
    {
     "data": {
      "text/plain": [
       "0.000307304586796243"
      ]
     },
     "execution_count": 109,
     "metadata": {},
     "output_type": "execute_result"
    }
   ],
   "source": [
    "sigma.subs(n, 10).evalf()"
   ]
  },
  {
   "cell_type": "code",
   "execution_count": 115,
   "metadata": {
    "collapsed": true
   },
   "outputs": [],
   "source": [
    "def get_sd(i):\n",
    "    return sigma.subs(n, i).evalf()\n",
    "def get_cv(i):\n",
    "    return get_sd(i) * 2**i"
   ]
  },
  {
   "cell_type": "code",
   "execution_count": 116,
   "metadata": {
    "collapsed": false
   },
   "outputs": [
    {
     "data": {
      "text/plain": [
       "0.000307304586796243"
      ]
     },
     "execution_count": 116,
     "metadata": {},
     "output_type": "execute_result"
    }
   ],
   "source": [
    "get_sd(10).evalf()"
   ]
  },
  {
   "cell_type": "code",
   "execution_count": 117,
   "metadata": {
    "collapsed": true
   },
   "outputs": [],
   "source": [
    "basedir = \"/Users/jmmcd/Dropbox/GPDistance/results/space_bitstring/\""
   ]
  },
  {
   "cell_type": "code",
   "execution_count": 118,
   "metadata": {
    "collapsed": false
   },
   "outputs": [
    {
     "data": {
      "image/png": "[encoded data removed]",
      "text/plain": [
       "<matplotlib.figure.Figure at 0x10db57c90>"
      ]
     },
     "metadata": {},
     "output_type": "display_data"
    }
   ],
   "source": [
    "fig = plt.figure(figsize=(4,2.5))\n",
    "ax = fig.add_subplot(111)\n",
    "ax.plot(range(10, 20), [get_sd(i) for i in range(10, 20)])\n",
    "plt.xlabel(\"$n$\")\n",
    "plt.ylabel(\"SD\")\n",
    "plt.subplots_adjust(left=0.2, bottom=0.2)\n",
    "plt.savefig(os.path.join(basedir, 'SD_Analytically.pdf'))\n",
    "del ax\n",
    "del fig"
   ]
  },
  {
   "cell_type": "code",
   "execution_count": 119,
   "metadata": {
    "collapsed": false
   },
   "outputs": [
    {
     "data": {
      "image/png": "[encoded data removed]",
      "text/plain": [
       "<matplotlib.figure.Figure at 0x10cc5ed50>"
      ]
     },
     "metadata": {},
     "output_type": "display_data"
    }
   ],
   "source": [
    "fig = plt.figure(figsize=(4,2.5))\n",
    "ax = fig.add_subplot(111)\n",
    "ax.plot(range(10, 20), [get_cv(i) for i in range(10, 20)])\n",
    "plt.xlabel(\"$n$\")\n",
    "plt.ylabel(\"CV\")\n",
    "plt.subplots_adjust(left=0.2, bottom=0.2)\n",
    "plt.savefig(os.path.join(basedir, 'CV_Analytically.pdf'))\n",
    "del ax\n",
    "del fig"
   ]
  },
  {
   "cell_type": "markdown",
   "metadata": {},
   "source": [
    "In a per-gene mutation, where the per-gene mutation probability is $p$, the transition probability to an individual whose Hamming distance is $h$ is $$p^h (1 - p)^{n - h}$$\n",
    "\n",
    "How many individuals are there at Hamming distance $h$? For $h=0$, 1. For $h=1$, $n$. For $h=2$, n-choose-2. In general, it's n-choose-h, ie $$\\binom{n}{h}$$\n",
    "\n",
    "As in the per-individual mutation above, the mean value of $t$ is $1/2^n$. So the variance $$v = \\frac{\\sum_{h=0}^n \\left(\\binom{n}{h} (p^h (1-p)^{n-h}) - 1/2^n \\right)^2}{2^n}$$\n",
    "\n",
    "Again $\\sigma = \\sqrt{v}$."
   ]
  },
  {
   "cell_type": "code",
   "execution_count": 81,
   "metadata": {
    "collapsed": true
   },
   "outputs": [],
   "source": [
    "nCk = lambda n, k: scipy.misc.comb(n, k, True)"
   ]
  },
  {
   "cell_type": "code",
   "execution_count": 125,
   "metadata": {
    "collapsed": false
   },
   "outputs": [],
   "source": [
    "n = 10\n",
    "p = 0.001\n",
    "sigma_f = math.sqrt(sum(\n",
    "        (nCk(n, h) * p**h * (1-p)**(n-h) - 1/2**n)**2\n",
    "        for h in range(n)\n",
    "         ) / (2**n))\n",
    "\n",
    "#(pm ** h) * ((1.0 - pm) ** (n - h))"
   ]
  },
  {
   "cell_type": "code",
   "execution_count": 126,
   "metadata": {
    "collapsed": false
   },
   "outputs": [
    {
     "data": {
      "text/plain": [
       "0.03094045254284038"
      ]
     },
     "execution_count": 126,
     "metadata": {},
     "output_type": "execute_result"
    }
   ],
   "source": [
    "sigma_f\n"
   ]
  },
  {
   "cell_type": "markdown",
   "metadata": {},
   "source": [
    "Next step: carry out the sympy calculations to get an analytic expression."
   ]
  }
 ],
 "metadata": {
  "kernelspec": {
   "display_name": "Python 2",
   "language": "python",
   "name": "python2"
  },
  "language_info": {
   "codemirror_mode": {
    "name": "ipython",
    "version": 2
   },
   "file_extension": ".py",
   "mimetype": "text/x-python",
   "name": "python",
   "nbconvert_exporter": "python",
   "pygments_lexer": "ipython2",
   "version": "2.7.9"
  }
 },
 "nbformat": 4,
 "nbformat_minor": 0
}
